{
 "cells": [
  {
   "cell_type": "markdown",
   "id": "82efbfd6",
   "metadata": {},
   "source": [
    "# UTS Model Deployment Soal 1B\n",
    "### Name: Benjamin Eleazar Manafe\n",
    "### NIM: 2702340704\n",
    "\n",
    "### Anda adalah seorang data scientist dari suatu Perusahaan dan diminta untuk membuat dan mengdeploy model machine learning dalam melakukan klasifikasi berdasarkan case sesuai dengan dataset yang Anda dapatkan dari ketentuan sebelumnya. "
   ]
  },
  {
   "cell_type": "code",
   "execution_count": 231,
   "id": "ecd18581",
   "metadata": {},
   "outputs": [],
   "source": [
    "import pandas as pd\n",
    "import numpy as np\n",
    "import matplotlib.pyplot as plt\n",
    "import seaborn as sns"
   ]
  },
  {
   "cell_type": "markdown",
   "id": "d3199d39",
   "metadata": {},
   "source": [
    "### [LO 1, LO 2 – 30 Poin] Buatlah model machine learning yang berisi proses pre-processing machine learning, training, dan hasil dari perbadingan 2 algoritma machine learning yaitu Random Forest dan Xgboost. Ambil algoritma terbaik dan simpan dengan menggunakan pickle. Seluruh proses disimpan dengan extension .ipynb"
   ]
  },
  {
   "cell_type": "markdown",
   "id": "96dbfc54",
   "metadata": {},
   "source": [
    "# 1. EDA & Data Cleaning"
   ]
  },
  {
   "cell_type": "code",
   "execution_count": 232,
   "id": "07553eed",
   "metadata": {},
   "outputs": [
    {
     "data": {
      "text/html": [
       "<div>\n",
       "<style scoped>\n",
       "    .dataframe tbody tr th:only-of-type {\n",
       "        vertical-align: middle;\n",
       "    }\n",
       "\n",
       "    .dataframe tbody tr th {\n",
       "        vertical-align: top;\n",
       "    }\n",
       "\n",
       "    .dataframe thead th {\n",
       "        text-align: right;\n",
       "    }\n",
       "</style>\n",
       "<table border=\"1\" class=\"dataframe\">\n",
       "  <thead>\n",
       "    <tr style=\"text-align: right;\">\n",
       "      <th></th>\n",
       "      <th>Booking_ID</th>\n",
       "      <th>no_of_adults</th>\n",
       "      <th>no_of_children</th>\n",
       "      <th>no_of_weekend_nights</th>\n",
       "      <th>no_of_week_nights</th>\n",
       "      <th>type_of_meal_plan</th>\n",
       "      <th>required_car_parking_space</th>\n",
       "      <th>room_type_reserved</th>\n",
       "      <th>lead_time</th>\n",
       "      <th>arrival_year</th>\n",
       "      <th>arrival_month</th>\n",
       "      <th>arrival_date</th>\n",
       "      <th>market_segment_type</th>\n",
       "      <th>repeated_guest</th>\n",
       "      <th>no_of_previous_cancellations</th>\n",
       "      <th>no_of_previous_bookings_not_canceled</th>\n",
       "      <th>avg_price_per_room</th>\n",
       "      <th>no_of_special_requests</th>\n",
       "      <th>booking_status</th>\n",
       "    </tr>\n",
       "  </thead>\n",
       "  <tbody>\n",
       "    <tr>\n",
       "      <th>0</th>\n",
       "      <td>INN00001</td>\n",
       "      <td>2</td>\n",
       "      <td>0</td>\n",
       "      <td>1</td>\n",
       "      <td>2</td>\n",
       "      <td>Meal Plan 1</td>\n",
       "      <td>0.0</td>\n",
       "      <td>Room_Type 1</td>\n",
       "      <td>224</td>\n",
       "      <td>2017</td>\n",
       "      <td>10</td>\n",
       "      <td>2</td>\n",
       "      <td>Offline</td>\n",
       "      <td>0</td>\n",
       "      <td>0</td>\n",
       "      <td>0</td>\n",
       "      <td>65.00</td>\n",
       "      <td>0</td>\n",
       "      <td>Not_Canceled</td>\n",
       "    </tr>\n",
       "    <tr>\n",
       "      <th>1</th>\n",
       "      <td>INN00002</td>\n",
       "      <td>2</td>\n",
       "      <td>0</td>\n",
       "      <td>2</td>\n",
       "      <td>3</td>\n",
       "      <td>Not Selected</td>\n",
       "      <td>0.0</td>\n",
       "      <td>Room_Type 1</td>\n",
       "      <td>5</td>\n",
       "      <td>2018</td>\n",
       "      <td>11</td>\n",
       "      <td>6</td>\n",
       "      <td>Online</td>\n",
       "      <td>0</td>\n",
       "      <td>0</td>\n",
       "      <td>0</td>\n",
       "      <td>106.68</td>\n",
       "      <td>1</td>\n",
       "      <td>Not_Canceled</td>\n",
       "    </tr>\n",
       "    <tr>\n",
       "      <th>2</th>\n",
       "      <td>INN00003</td>\n",
       "      <td>1</td>\n",
       "      <td>0</td>\n",
       "      <td>2</td>\n",
       "      <td>1</td>\n",
       "      <td>Meal Plan 1</td>\n",
       "      <td>0.0</td>\n",
       "      <td>Room_Type 1</td>\n",
       "      <td>1</td>\n",
       "      <td>2018</td>\n",
       "      <td>2</td>\n",
       "      <td>28</td>\n",
       "      <td>Online</td>\n",
       "      <td>0</td>\n",
       "      <td>0</td>\n",
       "      <td>0</td>\n",
       "      <td>60.00</td>\n",
       "      <td>0</td>\n",
       "      <td>Canceled</td>\n",
       "    </tr>\n",
       "    <tr>\n",
       "      <th>3</th>\n",
       "      <td>INN00004</td>\n",
       "      <td>2</td>\n",
       "      <td>0</td>\n",
       "      <td>0</td>\n",
       "      <td>2</td>\n",
       "      <td>Meal Plan 1</td>\n",
       "      <td>0.0</td>\n",
       "      <td>Room_Type 1</td>\n",
       "      <td>211</td>\n",
       "      <td>2018</td>\n",
       "      <td>5</td>\n",
       "      <td>20</td>\n",
       "      <td>Online</td>\n",
       "      <td>0</td>\n",
       "      <td>0</td>\n",
       "      <td>0</td>\n",
       "      <td>100.00</td>\n",
       "      <td>0</td>\n",
       "      <td>Canceled</td>\n",
       "    </tr>\n",
       "    <tr>\n",
       "      <th>4</th>\n",
       "      <td>INN00005</td>\n",
       "      <td>2</td>\n",
       "      <td>0</td>\n",
       "      <td>1</td>\n",
       "      <td>1</td>\n",
       "      <td>Not Selected</td>\n",
       "      <td>0.0</td>\n",
       "      <td>Room_Type 1</td>\n",
       "      <td>48</td>\n",
       "      <td>2018</td>\n",
       "      <td>4</td>\n",
       "      <td>11</td>\n",
       "      <td>Online</td>\n",
       "      <td>0</td>\n",
       "      <td>0</td>\n",
       "      <td>0</td>\n",
       "      <td>94.50</td>\n",
       "      <td>0</td>\n",
       "      <td>Canceled</td>\n",
       "    </tr>\n",
       "  </tbody>\n",
       "</table>\n",
       "</div>"
      ],
      "text/plain": [
       "  Booking_ID  no_of_adults  ...  no_of_special_requests  booking_status\n",
       "0   INN00001             2  ...                       0    Not_Canceled\n",
       "1   INN00002             2  ...                       1    Not_Canceled\n",
       "2   INN00003             1  ...                       0        Canceled\n",
       "3   INN00004             2  ...                       0        Canceled\n",
       "4   INN00005             2  ...                       0        Canceled\n",
       "\n",
       "[5 rows x 19 columns]"
      ]
     },
     "execution_count": 232,
     "metadata": {},
     "output_type": "execute_result"
    }
   ],
   "source": [
    "data = pd.read_csv('Dataset_B_hotel.csv')\n",
    "data.head()"
   ]
  },
  {
   "cell_type": "markdown",
   "id": "f20862c1",
   "metadata": {},
   "source": [
    "| Column Name | Description |\n",
    "|---|---|\n",
    "| Booking_ID | Pengenal unik dari tiap pemesanan |\n",
    "| no_of_adults | Jumlah orang dewasa |\n",
    "| no_of_children | Jumlah anak kecil |\n",
    "| no_of_weekend_nights | Jumlah malam akhir pekan (Sabtu atau Minggu) tamu menginap atau memesan untuk menginap di hotel |\n",
    "| no_of_week_nights | Jumlah malam dalam seminggu (Senin hingga Jumat) tamu menginap atau memesan untuk menginap di hotel |\n",
    "| type_of_meal_plan | Jenis paket makanan yang dipesan oleh pelanggan |\n",
    "| required_car_parking_space | Apakah pelanggan membutuhkan tempat parkir mobil? (0 - Tidak, 1 - Ya) |\n",
    "| room_type_reserved | Jenis kamar yang dipesan oleh pelanggan. Nilai-nilai tersebut dienkripsi oleh INN Hotels |\n",
    "| lead_time | Jumlah hari antara tanggal pemesanan dan tanggal kedatangan |\n",
    "| arrival_year | Tahun tanggal kedatangan |\n",
    "| arrival_month | Bulan tanggal kedatangan |\n",
    "| arrival_date | Tanggal kedatangan |\n",
    "| market_segment_type | Penunjukan segmen pasar |\n",
    "| repeated_guest | Apakah pelanggan tersebut merupakan tamu yang pernah melakukan booking dan juga menginap? (0 - Tidak, 1 - Ya) |\n",
    "| no_of_previous_cancellations | Jumlah pemesanan sebelumnya yang dibatalkan oleh pelanggan sebelum pemesanan saat ini |\n",
    "| no_of_previous_bookings_not_canceled | Jumlah pemesanan sebelumnya yang tidak dibatalkan oleh pelanggan sebelum pemesanan saat ini |\n",
    "| avg_price_per_room | Harga rata-rata per hari pemesanan; harga kamar bersifat dinamis. (dalam euro) |\n",
    "| no_of_special_requests | Jumlah total permintaan khusus yang dibuat oleh pelanggan (misalnya lantai yang tinggi, pemandangan dari kamar, dan lain-lain.) |\n",
    "| booking_status (target variable) | Flag yang menunjukkan apakah pemesanan dibatalkan atau tidak. |"
   ]
  },
  {
   "cell_type": "markdown",
   "id": "f31ce077",
   "metadata": {},
   "source": [
    "## 1.1 Data Conversion"
   ]
  },
  {
   "cell_type": "code",
   "execution_count": 233,
   "id": "70466827",
   "metadata": {},
   "outputs": [
    {
     "data": {
      "text/plain": [
       "(['no_of_adults',\n",
       "  'no_of_children',\n",
       "  'no_of_weekend_nights',\n",
       "  'no_of_week_nights',\n",
       "  'lead_time',\n",
       "  'no_of_previous_cancellations',\n",
       "  'no_of_previous_bookings_not_canceled',\n",
       "  'avg_price_per_room',\n",
       "  'no_of_special_requests'],\n",
       " ['type_of_meal_plan',\n",
       "  'required_car_parking_space',\n",
       "  'room_type_reserved',\n",
       "  'arrival_year',\n",
       "  'arrival_month',\n",
       "  'arrival_date',\n",
       "  'market_segment_type',\n",
       "  'repeated_guest'])"
      ]
     },
     "execution_count": 233,
     "metadata": {},
     "output_type": "execute_result"
    }
   ],
   "source": [
    "num_cols = ['no_of_adults', \n",
    "            'no_of_children',\n",
    "            'no_of_weekend_nights',\n",
    "            'no_of_week_nights',\n",
    "            'lead_time',\n",
    "            'no_of_previous_cancellations',\n",
    "            'no_of_previous_bookings_not_canceled',\n",
    "            'avg_price_per_room',\n",
    "            'no_of_special_requests']\n",
    "cat_cols = [col for col in data.columns if col not in num_cols and col != 'booking_status' and col != 'Booking_ID']\n",
    "\n",
    "num_cols, cat_cols"
   ]
  },
  {
   "cell_type": "code",
   "execution_count": 234,
   "id": "5952e5a2",
   "metadata": {},
   "outputs": [
    {
     "name": "stdout",
     "output_type": "stream",
     "text": [
      "<class 'pandas.core.frame.DataFrame'>\n",
      "RangeIndex: 36275 entries, 0 to 36274\n",
      "Data columns (total 19 columns):\n",
      " #   Column                                Non-Null Count  Dtype  \n",
      "---  ------                                --------------  -----  \n",
      " 0   Booking_ID                            36275 non-null  object \n",
      " 1   no_of_adults                          36275 non-null  int64  \n",
      " 2   no_of_children                        36275 non-null  int64  \n",
      " 3   no_of_weekend_nights                  36275 non-null  int64  \n",
      " 4   no_of_week_nights                     36275 non-null  int64  \n",
      " 5   type_of_meal_plan                     35368 non-null  object \n",
      " 6   required_car_parking_space            35005 non-null  object \n",
      " 7   room_type_reserved                    36275 non-null  object \n",
      " 8   lead_time                             36275 non-null  int64  \n",
      " 9   arrival_year                          36275 non-null  object \n",
      " 10  arrival_month                         36275 non-null  object \n",
      " 11  arrival_date                          36275 non-null  object \n",
      " 12  market_segment_type                   36275 non-null  object \n",
      " 13  repeated_guest                        36275 non-null  object \n",
      " 14  no_of_previous_cancellations          36275 non-null  int64  \n",
      " 15  no_of_previous_bookings_not_canceled  36275 non-null  int64  \n",
      " 16  avg_price_per_room                    34643 non-null  float64\n",
      " 17  no_of_special_requests                36275 non-null  int64  \n",
      " 18  booking_status                        36275 non-null  object \n",
      "dtypes: float64(1), int64(8), object(10)\n",
      "memory usage: 5.3+ MB\n"
     ]
    }
   ],
   "source": [
    "for col in cat_cols:\n",
    "    try:\n",
    "        data[col] = data[col].astype(object)\n",
    "    except Exception as e:\n",
    "        print(e)\n",
    "\n",
    "data.info()"
   ]
  },
  {
   "cell_type": "code",
   "execution_count": 235,
   "id": "8b167b4b",
   "metadata": {},
   "outputs": [
    {
     "data": {
      "text/plain": [
       "np.int64(0)"
      ]
     },
     "execution_count": 235,
     "metadata": {},
     "output_type": "execute_result"
    }
   ],
   "source": [
    "data.duplicated().sum()"
   ]
  },
  {
   "cell_type": "markdown",
   "id": "04913fa3",
   "metadata": {},
   "source": [
    "## 1.2 Data Splitting"
   ]
  },
  {
   "cell_type": "code",
   "execution_count": 236,
   "id": "a0fcd874",
   "metadata": {},
   "outputs": [
    {
     "data": {
      "text/plain": [
       "(29020, 7255, 29020, 7255)"
      ]
     },
     "execution_count": 236,
     "metadata": {},
     "output_type": "execute_result"
    }
   ],
   "source": [
    "from sklearn.model_selection import train_test_split\n",
    "\n",
    "X = data\n",
    "y = data['booking_status']\n",
    "\n",
    "X_train, X_test, y_train, y_test = train_test_split(X, y, test_size=0.2, random_state=42)\n",
    "\n",
    "len(X_train), len(X_test), len(y_train), len(y_test)"
   ]
  },
  {
   "cell_type": "markdown",
   "id": "d1a3e64a",
   "metadata": {},
   "source": [
    "## 1.3 Data Cleaning"
   ]
  },
  {
   "cell_type": "code",
   "execution_count": 237,
   "id": "9cdae557",
   "metadata": {},
   "outputs": [
    {
     "data": {
      "text/html": [
       "<div>\n",
       "<style scoped>\n",
       "    .dataframe tbody tr th:only-of-type {\n",
       "        vertical-align: middle;\n",
       "    }\n",
       "\n",
       "    .dataframe tbody tr th {\n",
       "        vertical-align: top;\n",
       "    }\n",
       "\n",
       "    .dataframe thead th {\n",
       "        text-align: right;\n",
       "    }\n",
       "</style>\n",
       "<table border=\"1\" class=\"dataframe\">\n",
       "  <thead>\n",
       "    <tr style=\"text-align: right;\">\n",
       "      <th></th>\n",
       "      <th>no_of_adults</th>\n",
       "      <th>no_of_children</th>\n",
       "      <th>no_of_weekend_nights</th>\n",
       "      <th>no_of_week_nights</th>\n",
       "      <th>lead_time</th>\n",
       "      <th>no_of_previous_cancellations</th>\n",
       "      <th>no_of_previous_bookings_not_canceled</th>\n",
       "      <th>avg_price_per_room</th>\n",
       "      <th>no_of_special_requests</th>\n",
       "    </tr>\n",
       "  </thead>\n",
       "  <tbody>\n",
       "    <tr>\n",
       "      <th>count</th>\n",
       "      <td>29020.000000</td>\n",
       "      <td>29020.000000</td>\n",
       "      <td>29020.000000</td>\n",
       "      <td>29020.000000</td>\n",
       "      <td>29020.000000</td>\n",
       "      <td>29020.000000</td>\n",
       "      <td>29020.000000</td>\n",
       "      <td>27741.000000</td>\n",
       "      <td>29020.000000</td>\n",
       "    </tr>\n",
       "    <tr>\n",
       "      <th>mean</th>\n",
       "      <td>1.844280</td>\n",
       "      <td>0.106306</td>\n",
       "      <td>0.807822</td>\n",
       "      <td>2.202068</td>\n",
       "      <td>85.376085</td>\n",
       "      <td>0.023880</td>\n",
       "      <td>0.154721</td>\n",
       "      <td>103.508168</td>\n",
       "      <td>0.619917</td>\n",
       "    </tr>\n",
       "    <tr>\n",
       "      <th>std</th>\n",
       "      <td>0.518692</td>\n",
       "      <td>0.405391</td>\n",
       "      <td>0.868111</td>\n",
       "      <td>1.402801</td>\n",
       "      <td>85.859070</td>\n",
       "      <td>0.375994</td>\n",
       "      <td>1.777787</td>\n",
       "      <td>35.198727</td>\n",
       "      <td>0.786348</td>\n",
       "    </tr>\n",
       "    <tr>\n",
       "      <th>min</th>\n",
       "      <td>0.000000</td>\n",
       "      <td>0.000000</td>\n",
       "      <td>0.000000</td>\n",
       "      <td>0.000000</td>\n",
       "      <td>0.000000</td>\n",
       "      <td>0.000000</td>\n",
       "      <td>0.000000</td>\n",
       "      <td>0.000000</td>\n",
       "      <td>0.000000</td>\n",
       "    </tr>\n",
       "    <tr>\n",
       "      <th>25%</th>\n",
       "      <td>2.000000</td>\n",
       "      <td>0.000000</td>\n",
       "      <td>0.000000</td>\n",
       "      <td>1.000000</td>\n",
       "      <td>17.000000</td>\n",
       "      <td>0.000000</td>\n",
       "      <td>0.000000</td>\n",
       "      <td>80.470000</td>\n",
       "      <td>0.000000</td>\n",
       "    </tr>\n",
       "    <tr>\n",
       "      <th>50%</th>\n",
       "      <td>2.000000</td>\n",
       "      <td>0.000000</td>\n",
       "      <td>1.000000</td>\n",
       "      <td>2.000000</td>\n",
       "      <td>58.000000</td>\n",
       "      <td>0.000000</td>\n",
       "      <td>0.000000</td>\n",
       "      <td>99.900000</td>\n",
       "      <td>0.000000</td>\n",
       "    </tr>\n",
       "    <tr>\n",
       "      <th>75%</th>\n",
       "      <td>2.000000</td>\n",
       "      <td>0.000000</td>\n",
       "      <td>2.000000</td>\n",
       "      <td>3.000000</td>\n",
       "      <td>127.000000</td>\n",
       "      <td>0.000000</td>\n",
       "      <td>0.000000</td>\n",
       "      <td>120.350000</td>\n",
       "      <td>1.000000</td>\n",
       "    </tr>\n",
       "    <tr>\n",
       "      <th>max</th>\n",
       "      <td>4.000000</td>\n",
       "      <td>10.000000</td>\n",
       "      <td>6.000000</td>\n",
       "      <td>17.000000</td>\n",
       "      <td>443.000000</td>\n",
       "      <td>13.000000</td>\n",
       "      <td>58.000000</td>\n",
       "      <td>375.500000</td>\n",
       "      <td>5.000000</td>\n",
       "    </tr>\n",
       "  </tbody>\n",
       "</table>\n",
       "</div>"
      ],
      "text/plain": [
       "       no_of_adults  no_of_children  ...  avg_price_per_room  no_of_special_requests\n",
       "count  29020.000000    29020.000000  ...        27741.000000            29020.000000\n",
       "mean       1.844280        0.106306  ...          103.508168                0.619917\n",
       "std        0.518692        0.405391  ...           35.198727                0.786348\n",
       "min        0.000000        0.000000  ...            0.000000                0.000000\n",
       "25%        2.000000        0.000000  ...           80.470000                0.000000\n",
       "50%        2.000000        0.000000  ...           99.900000                0.000000\n",
       "75%        2.000000        0.000000  ...          120.350000                1.000000\n",
       "max        4.000000       10.000000  ...          375.500000                5.000000\n",
       "\n",
       "[8 rows x 9 columns]"
      ]
     },
     "execution_count": 237,
     "metadata": {},
     "output_type": "execute_result"
    }
   ],
   "source": [
    "X_train.describe()"
   ]
  },
  {
   "cell_type": "code",
   "execution_count": 238,
   "id": "b8647220",
   "metadata": {},
   "outputs": [
    {
     "data": {
      "text/html": [
       "<div>\n",
       "<style scoped>\n",
       "    .dataframe tbody tr th:only-of-type {\n",
       "        vertical-align: middle;\n",
       "    }\n",
       "\n",
       "    .dataframe tbody tr th {\n",
       "        vertical-align: top;\n",
       "    }\n",
       "\n",
       "    .dataframe thead th {\n",
       "        text-align: right;\n",
       "    }\n",
       "</style>\n",
       "<table border=\"1\" class=\"dataframe\">\n",
       "  <thead>\n",
       "    <tr style=\"text-align: right;\">\n",
       "      <th></th>\n",
       "      <th>Booking_ID</th>\n",
       "      <th>type_of_meal_plan</th>\n",
       "      <th>required_car_parking_space</th>\n",
       "      <th>room_type_reserved</th>\n",
       "      <th>arrival_year</th>\n",
       "      <th>arrival_month</th>\n",
       "      <th>arrival_date</th>\n",
       "      <th>market_segment_type</th>\n",
       "      <th>repeated_guest</th>\n",
       "      <th>booking_status</th>\n",
       "    </tr>\n",
       "  </thead>\n",
       "  <tbody>\n",
       "    <tr>\n",
       "      <th>count</th>\n",
       "      <td>29020</td>\n",
       "      <td>28284</td>\n",
       "      <td>27981.0</td>\n",
       "      <td>29020</td>\n",
       "      <td>29020</td>\n",
       "      <td>29020</td>\n",
       "      <td>29020</td>\n",
       "      <td>29020</td>\n",
       "      <td>29020</td>\n",
       "      <td>29020</td>\n",
       "    </tr>\n",
       "    <tr>\n",
       "      <th>unique</th>\n",
       "      <td>29020</td>\n",
       "      <td>4</td>\n",
       "      <td>2.0</td>\n",
       "      <td>7</td>\n",
       "      <td>2</td>\n",
       "      <td>12</td>\n",
       "      <td>31</td>\n",
       "      <td>5</td>\n",
       "      <td>2</td>\n",
       "      <td>2</td>\n",
       "    </tr>\n",
       "    <tr>\n",
       "      <th>top</th>\n",
       "      <td>INN15796</td>\n",
       "      <td>Meal Plan 1</td>\n",
       "      <td>0.0</td>\n",
       "      <td>Room_Type 1</td>\n",
       "      <td>2018</td>\n",
       "      <td>10</td>\n",
       "      <td>19</td>\n",
       "      <td>Online</td>\n",
       "      <td>0</td>\n",
       "      <td>Not_Canceled</td>\n",
       "    </tr>\n",
       "    <tr>\n",
       "      <th>freq</th>\n",
       "      <td>1</td>\n",
       "      <td>21726</td>\n",
       "      <td>27081.0</td>\n",
       "      <td>22489</td>\n",
       "      <td>23809</td>\n",
       "      <td>4263</td>\n",
       "      <td>1087</td>\n",
       "      <td>18550</td>\n",
       "      <td>28272</td>\n",
       "      <td>19551</td>\n",
       "    </tr>\n",
       "  </tbody>\n",
       "</table>\n",
       "</div>"
      ],
      "text/plain": [
       "       Booking_ID type_of_meal_plan  ...  repeated_guest booking_status\n",
       "count       29020             28284  ...           29020          29020\n",
       "unique      29020                 4  ...               2              2\n",
       "top      INN15796       Meal Plan 1  ...               0   Not_Canceled\n",
       "freq            1             21726  ...           28272          19551\n",
       "\n",
       "[4 rows x 10 columns]"
      ]
     },
     "execution_count": 238,
     "metadata": {},
     "output_type": "execute_result"
    }
   ],
   "source": [
    "X_train.describe(include='O')"
   ]
  },
  {
   "cell_type": "markdown",
   "id": "0f2c8129",
   "metadata": {},
   "source": [
    "### 1.3.1 Categorical Columns"
   ]
  },
  {
   "cell_type": "code",
   "execution_count": 239,
   "id": "c2d9ffec",
   "metadata": {},
   "outputs": [
    {
     "name": "stdout",
     "output_type": "stream",
     "text": [
      "---- type_of_meal_plan ----\n",
      "['Meal Plan 1' 'Not Selected' 'Meal Plan 2' nan 'Meal Plan 3'] \n",
      "\n",
      "---- required_car_parking_space ----\n",
      "[0.0 1.0 nan] \n",
      "\n",
      "---- room_type_reserved ----\n",
      "['Room_Type 1' 'Room_Type 6' 'Room_Type 5' 'Room_Type 4' 'Room_Type 2'\n",
      " 'Room_Type 7' 'Room_Type 3'] \n",
      "\n",
      "---- arrival_year ----\n",
      "[2017 2018] \n",
      "\n",
      "---- arrival_month ----\n",
      "[10 7 9 8 6 4 5 12 3 2 11 1] \n",
      "\n",
      "---- arrival_date ----\n",
      "[17 16 8 15 6 13 21 20 12 30 11 10 25 29 26 28 1 4 23 3 19 31 5 2 7 9 14\n",
      " 18 24 22 27] \n",
      "\n",
      "---- market_segment_type ----\n",
      "['Online' 'Offline' 'Corporate' 'Complementary' 'Aviation'] \n",
      "\n",
      "---- repeated_guest ----\n",
      "[0 1] \n",
      "\n"
     ]
    }
   ],
   "source": [
    "for col in cat_cols:\n",
    "    print(f'---- {col} ----')\n",
    "    print(X_train[col].unique(), '\\n')"
   ]
  },
  {
   "cell_type": "markdown",
   "id": "0d30ccf2",
   "metadata": {},
   "source": [
    "Things to look at:\n",
    "- type_of_meal_plan\n",
    "- required_car_parking_space"
   ]
  },
  {
   "cell_type": "code",
   "execution_count": 240,
   "id": "1242843f",
   "metadata": {},
   "outputs": [
    {
     "data": {
      "text/plain": [
       "type_of_meal_plan\n",
       "Meal Plan 1     21726\n",
       "Not Selected     3963\n",
       "Meal Plan 2      2591\n",
       "Meal Plan 3         4\n",
       "Name: count, dtype: int64"
      ]
     },
     "execution_count": 240,
     "metadata": {},
     "output_type": "execute_result"
    }
   ],
   "source": [
    "X_train['type_of_meal_plan'].value_counts()"
   ]
  },
  {
   "cell_type": "code",
   "execution_count": 241,
   "id": "2756c0e1",
   "metadata": {},
   "outputs": [
    {
     "data": {
      "text/plain": [
       "(np.int64(736), np.float64(0.025361819434872503))"
      ]
     },
     "execution_count": 241,
     "metadata": {},
     "output_type": "execute_result"
    }
   ],
   "source": [
    "X_train['type_of_meal_plan'].isnull().sum(), X_train['type_of_meal_plan'].isnull().sum()/len(X_train)"
   ]
  },
  {
   "cell_type": "code",
   "execution_count": 242,
   "id": "e1b8c4c4",
   "metadata": {},
   "outputs": [
    {
     "data": {
      "text/plain": [
       "np.int64(0)"
      ]
     },
     "execution_count": 242,
     "metadata": {},
     "output_type": "execute_result"
    }
   ],
   "source": [
    "X_train.loc[X_train['type_of_meal_plan'].isnull(), 'type_of_meal_plan'] = 'Meal Plan 1'\n",
    "X_train['type_of_meal_plan'].isnull().sum()"
   ]
  },
  {
   "cell_type": "code",
   "execution_count": 243,
   "id": "289ed123",
   "metadata": {},
   "outputs": [],
   "source": [
    "X_test.loc[X_test['type_of_meal_plan'].isnull(), 'type_of_meal_plan'] = 'Meal Plan 1'"
   ]
  },
  {
   "cell_type": "code",
   "execution_count": 244,
   "id": "26fea874",
   "metadata": {},
   "outputs": [
    {
     "data": {
      "text/plain": [
       "required_car_parking_space\n",
       "0.0    27081\n",
       "1.0      900\n",
       "Name: count, dtype: int64"
      ]
     },
     "execution_count": 244,
     "metadata": {},
     "output_type": "execute_result"
    }
   ],
   "source": [
    "X_train['required_car_parking_space'].value_counts()"
   ]
  },
  {
   "cell_type": "code",
   "execution_count": 245,
   "id": "0c765f92",
   "metadata": {},
   "outputs": [
    {
     "data": {
      "text/plain": [
       "(np.int64(1039), np.float64(0.03580289455547898))"
      ]
     },
     "execution_count": 245,
     "metadata": {},
     "output_type": "execute_result"
    }
   ],
   "source": [
    "X_train['required_car_parking_space'].isnull().sum(), X_train['required_car_parking_space'].isnull().sum()/len(X_train)"
   ]
  },
  {
   "cell_type": "code",
   "execution_count": 246,
   "id": "51ef985b",
   "metadata": {},
   "outputs": [
    {
     "data": {
      "text/plain": [
       "np.int64(0)"
      ]
     },
     "execution_count": 246,
     "metadata": {},
     "output_type": "execute_result"
    }
   ],
   "source": [
    "X_train.loc[X_train['required_car_parking_space'].isnull(), 'required_car_parking_space'] = 0\n",
    "X_train['required_car_parking_space'].isnull().sum()"
   ]
  },
  {
   "cell_type": "code",
   "execution_count": 247,
   "id": "7cdceb59",
   "metadata": {},
   "outputs": [],
   "source": [
    "X_test.loc[X_test['required_car_parking_space'].isnull(), 'required_car_parking_space'] = 0"
   ]
  },
  {
   "cell_type": "code",
   "execution_count": 248,
   "id": "4d2f1b70",
   "metadata": {},
   "outputs": [],
   "source": [
    "from sklearn.preprocessing import OneHotEncoder, OrdinalEncoder\n",
    "from sklearn.compose import ColumnTransformer\n",
    "from sklearn.pipeline import Pipeline\n",
    "\n",
    "oe_cols = ['arrival_month',\n",
    "           'arrival_date']\n",
    "\n",
    "ohe_cols = ['type_of_meal_plan',\n",
    "            'required_car_parking_space',\n",
    "            'room_type_reserved',\n",
    "            'arrival_year',\n",
    "            'market_segment_type',\n",
    "            'repeated_guest']\n",
    "\n",
    "month_categories = list(range(1, 13))\n",
    "date_categories = list(range(1, 32))\n",
    "booking_status_categories = list(range(0, 2))\n",
    "\n",
    "ordinal_mapping = {\n",
    "    'arrival_month': month_categories,\n",
    "    'arrival_date': date_categories,\n",
    "    'booking_status': booking_status_categories\n",
    "}\n",
    "\n",
    "oe = OrdinalEncoder(categories=[ordinal_mapping.get(col, sorted(X_train[col].unique())) for col in oe_cols])\n",
    "ohe = OneHotEncoder(sparse_output=False, handle_unknown='ignore')\n",
    "\n",
    "preprocessor = ColumnTransformer(\n",
    "    transformers = [\n",
    "        ('ordinal', oe, oe_cols),\n",
    "        ('onehot', ohe, ohe_cols)\n",
    "    ],\n",
    "    remainder='passthrough'\n",
    ")\n",
    "\n",
    "pipeline = Pipeline(steps=[('preprocessor', preprocessor)])\n",
    "\n",
    "X_train_encoded = pipeline.fit_transform(X_train[cat_cols])\n",
    "X_test_encoded = pipeline.transform(X_test[cat_cols])\n",
    "\n",
    "oe_feature_names = oe_cols\n",
    "ohe_feature_names = pipeline.named_steps['preprocessor'].named_transformers_['onehot'].get_feature_names_out(input_features=ohe_cols)\n",
    "\n",
    "X_train_encoded = pd.DataFrame(X_train_encoded, columns=oe_feature_names + ohe_feature_names.tolist(), index=X_train.index)\n",
    "X_test_encoded = pd.DataFrame(X_test_encoded, columns=oe_feature_names + ohe_feature_names.tolist(), index=X_test.index)"
   ]
  },
  {
   "cell_type": "code",
   "execution_count": 249,
   "id": "e37b9243",
   "metadata": {},
   "outputs": [],
   "source": [
    "y_train = y_train.map({'Canceled': 1, 'Not_Canceled': 0})\n",
    "y_test = y_test.map({'Canceled': 1, 'Not_Canceled': 0})"
   ]
  },
  {
   "cell_type": "code",
   "execution_count": 250,
   "id": "f5e0d9e3",
   "metadata": {},
   "outputs": [],
   "source": [
    "X_train = X_train.drop(cat_cols, axis=1)\n",
    "X_train = X_train.drop(['booking_status', 'Booking_ID'], axis=1)\n",
    "X_test = X_test.drop(cat_cols, axis=1)\n",
    "X_test = X_test.drop(['booking_status', 'Booking_ID'], axis=1)\n",
    "\n",
    "X_train = pd.concat([X_train, X_train_encoded], axis=1)\n",
    "X_test = pd.concat([X_test, X_test_encoded], axis=1)\n",
    "\n",
    "X_train['booking_status'] = y_train\n",
    "X_test['booking_status'] = y_test"
   ]
  },
  {
   "cell_type": "markdown",
   "id": "63e9e7dc",
   "metadata": {},
   "source": [
    "### 1.3.2 Numerical Columns"
   ]
  },
  {
   "cell_type": "markdown",
   "id": "e822d5a3",
   "metadata": {},
   "source": [
    "#### Missing Columns"
   ]
  },
  {
   "cell_type": "code",
   "execution_count": 251,
   "id": "c1134049",
   "metadata": {},
   "outputs": [
    {
     "name": "stdout",
     "output_type": "stream",
     "text": [
      "<class 'pandas.core.frame.DataFrame'>\n",
      "Index: 29020 entries, 25629 to 15795\n",
      "Data columns (total 34 columns):\n",
      " #   Column                                Non-Null Count  Dtype  \n",
      "---  ------                                --------------  -----  \n",
      " 0   no_of_adults                          29020 non-null  int64  \n",
      " 1   no_of_children                        29020 non-null  int64  \n",
      " 2   no_of_weekend_nights                  29020 non-null  int64  \n",
      " 3   no_of_week_nights                     29020 non-null  int64  \n",
      " 4   lead_time                             29020 non-null  int64  \n",
      " 5   no_of_previous_cancellations          29020 non-null  int64  \n",
      " 6   no_of_previous_bookings_not_canceled  29020 non-null  int64  \n",
      " 7   avg_price_per_room                    27741 non-null  float64\n",
      " 8   no_of_special_requests                29020 non-null  int64  \n",
      " 9   arrival_month                         29020 non-null  float64\n",
      " 10  arrival_date                          29020 non-null  float64\n",
      " 11  type_of_meal_plan_Meal Plan 1         29020 non-null  float64\n",
      " 12  type_of_meal_plan_Meal Plan 2         29020 non-null  float64\n",
      " 13  type_of_meal_plan_Meal Plan 3         29020 non-null  float64\n",
      " 14  type_of_meal_plan_Not Selected        29020 non-null  float64\n",
      " 15  required_car_parking_space_0.0        29020 non-null  float64\n",
      " 16  required_car_parking_space_1.0        29020 non-null  float64\n",
      " 17  room_type_reserved_Room_Type 1        29020 non-null  float64\n",
      " 18  room_type_reserved_Room_Type 2        29020 non-null  float64\n",
      " 19  room_type_reserved_Room_Type 3        29020 non-null  float64\n",
      " 20  room_type_reserved_Room_Type 4        29020 non-null  float64\n",
      " 21  room_type_reserved_Room_Type 5        29020 non-null  float64\n",
      " 22  room_type_reserved_Room_Type 6        29020 non-null  float64\n",
      " 23  room_type_reserved_Room_Type 7        29020 non-null  float64\n",
      " 24  arrival_year_2017                     29020 non-null  float64\n",
      " 25  arrival_year_2018                     29020 non-null  float64\n",
      " 26  market_segment_type_Aviation          29020 non-null  float64\n",
      " 27  market_segment_type_Complementary     29020 non-null  float64\n",
      " 28  market_segment_type_Corporate         29020 non-null  float64\n",
      " 29  market_segment_type_Offline           29020 non-null  float64\n",
      " 30  market_segment_type_Online            29020 non-null  float64\n",
      " 31  repeated_guest_0                      29020 non-null  float64\n",
      " 32  repeated_guest_1                      29020 non-null  float64\n",
      " 33  booking_status                        29020 non-null  int64  \n",
      "dtypes: float64(25), int64(9)\n",
      "memory usage: 7.7 MB\n"
     ]
    }
   ],
   "source": [
    "X_train.info()"
   ]
  },
  {
   "cell_type": "code",
   "execution_count": 252,
   "id": "e4656498",
   "metadata": {},
   "outputs": [
    {
     "data": {
      "text/plain": [
       "avg_price_per_room    1279\n",
       "dtype: int64"
      ]
     },
     "execution_count": 252,
     "metadata": {},
     "output_type": "execute_result"
    }
   ],
   "source": [
    "missing_columns = X_train.isnull().sum()\n",
    "missing_columns[missing_columns > 0]"
   ]
  },
  {
   "cell_type": "code",
   "execution_count": 253,
   "id": "01f95c1a",
   "metadata": {},
   "outputs": [
    {
     "data": {
      "text/plain": [
       "count    27741.000000\n",
       "mean       103.508168\n",
       "std         35.198727\n",
       "min          0.000000\n",
       "25%         80.470000\n",
       "50%         99.900000\n",
       "75%        120.350000\n",
       "max        375.500000\n",
       "Name: avg_price_per_room, dtype: float64"
      ]
     },
     "execution_count": 253,
     "metadata": {},
     "output_type": "execute_result"
    }
   ],
   "source": [
    "X_train['avg_price_per_room'].describe()"
   ]
  },
  {
   "cell_type": "code",
   "execution_count": 254,
   "id": "a2490aff",
   "metadata": {},
   "outputs": [
    {
     "data": {
      "image/png": "[encoded data removed]",
      "text/plain": [
       "<Figure size 1000x700 with 1 Axes>"
      ]
     },
     "metadata": {},
     "output_type": "display_data"
    }
   ],
   "source": [
    "plt.figure(figsize=(10, 7))\n",
    "sns.histplot(X_train['avg_price_per_room'])\n",
    "plt.title('Average Price per Room Cost Distribution')\n",
    "plt.show()"
   ]
  },
  {
   "cell_type": "code",
   "execution_count": 255,
   "id": "65174211",
   "metadata": {},
   "outputs": [
    {
     "data": {
      "image/png": "[encoded data removed]",
      "text/plain": [
       "<Figure size 1000x700 with 1 Axes>"
      ]
     },
     "metadata": {},
     "output_type": "display_data"
    }
   ],
   "source": [
    "plt.figure(figsize=(10, 7))\n",
    "sns.boxplot(X_train['avg_price_per_room'])\n",
    "plt.title('Average Price per Room Cost Boxplot')\n",
    "plt.show()"
   ]
  },
  {
   "cell_type": "code",
   "execution_count": 256,
   "id": "57a04a52",
   "metadata": {},
   "outputs": [
    {
     "data": {
      "text/plain": [
       "np.float64(103.5)"
      ]
     },
     "execution_count": 256,
     "metadata": {},
     "output_type": "execute_result"
    }
   ],
   "source": [
    "avg_avg_price_per_room = round(X_train['avg_price_per_room'].mean(), 1)\n",
    "avg_avg_price_per_room"
   ]
  },
  {
   "cell_type": "code",
   "execution_count": 257,
   "id": "6a5ff2c2",
   "metadata": {},
   "outputs": [
    {
     "data": {
      "text/html": [
       "<div>\n",
       "<style scoped>\n",
       "    .dataframe tbody tr th:only-of-type {\n",
       "        vertical-align: middle;\n",
       "    }\n",
       "\n",
       "    .dataframe tbody tr th {\n",
       "        vertical-align: top;\n",
       "    }\n",
       "\n",
       "    .dataframe thead th {\n",
       "        text-align: right;\n",
       "    }\n",
       "</style>\n",
       "<table border=\"1\" class=\"dataframe\">\n",
       "  <thead>\n",
       "    <tr style=\"text-align: right;\">\n",
       "      <th></th>\n",
       "      <th>no_of_adults</th>\n",
       "      <th>no_of_children</th>\n",
       "      <th>no_of_weekend_nights</th>\n",
       "      <th>no_of_week_nights</th>\n",
       "      <th>lead_time</th>\n",
       "      <th>no_of_previous_cancellations</th>\n",
       "      <th>no_of_previous_bookings_not_canceled</th>\n",
       "      <th>avg_price_per_room</th>\n",
       "      <th>no_of_special_requests</th>\n",
       "      <th>arrival_month</th>\n",
       "      <th>arrival_date</th>\n",
       "      <th>type_of_meal_plan_Meal Plan 1</th>\n",
       "      <th>type_of_meal_plan_Meal Plan 2</th>\n",
       "      <th>type_of_meal_plan_Meal Plan 3</th>\n",
       "      <th>type_of_meal_plan_Not Selected</th>\n",
       "      <th>required_car_parking_space_0.0</th>\n",
       "      <th>required_car_parking_space_1.0</th>\n",
       "      <th>room_type_reserved_Room_Type 1</th>\n",
       "      <th>room_type_reserved_Room_Type 2</th>\n",
       "      <th>room_type_reserved_Room_Type 3</th>\n",
       "      <th>room_type_reserved_Room_Type 4</th>\n",
       "      <th>room_type_reserved_Room_Type 5</th>\n",
       "      <th>room_type_reserved_Room_Type 6</th>\n",
       "      <th>room_type_reserved_Room_Type 7</th>\n",
       "      <th>arrival_year_2017</th>\n",
       "      <th>arrival_year_2018</th>\n",
       "      <th>market_segment_type_Aviation</th>\n",
       "      <th>market_segment_type_Complementary</th>\n",
       "      <th>market_segment_type_Corporate</th>\n",
       "      <th>market_segment_type_Offline</th>\n",
       "      <th>market_segment_type_Online</th>\n",
       "      <th>repeated_guest_0</th>\n",
       "      <th>repeated_guest_1</th>\n",
       "      <th>booking_status</th>\n",
       "    </tr>\n",
       "  </thead>\n",
       "  <tbody>\n",
       "  </tbody>\n",
       "</table>\n",
       "</div>"
      ],
      "text/plain": [
       "Empty DataFrame\n",
       "Columns: [no_of_adults, no_of_children, no_of_weekend_nights, no_of_week_nights, lead_time, no_of_previous_cancellations, no_of_previous_bookings_not_canceled, avg_price_per_room, no_of_special_requests, arrival_month, arrival_date, type_of_meal_plan_Meal Plan 1, type_of_meal_plan_Meal Plan 2, type_of_meal_plan_Meal Plan 3, type_of_meal_plan_Not Selected, required_car_parking_space_0.0, required_car_parking_space_1.0, room_type_reserved_Room_Type 1, room_type_reserved_Room_Type 2, room_type_reserved_Room_Type 3, room_type_reserved_Room_Type 4, room_type_reserved_Room_Type 5, room_type_reserved_Room_Type 6, room_type_reserved_Room_Type 7, arrival_year_2017, arrival_year_2018, market_segment_type_Aviation, market_segment_type_Complementary, market_segment_type_Corporate, market_segment_type_Offline, market_segment_type_Online, repeated_guest_0, repeated_guest_1, booking_status]\n",
       "Index: []"
      ]
     },
     "execution_count": 257,
     "metadata": {},
     "output_type": "execute_result"
    }
   ],
   "source": [
    "X_train.loc[X_train['avg_price_per_room'].isnull(), 'avg_price_per_room'] = avg_avg_price_per_room\n",
    "X_train[X_train['avg_price_per_room'].isnull()]"
   ]
  },
  {
   "cell_type": "code",
   "execution_count": 258,
   "id": "ca77934c",
   "metadata": {},
   "outputs": [
    {
     "data": {
      "image/png": "[encoded data removed]",
      "text/plain": [
       "<Figure size 1500x1000 with 9 Axes>"
      ]
     },
     "metadata": {},
     "output_type": "display_data"
    }
   ],
   "source": [
    "plt.figure(figsize=(15, 10))\n",
    "for i, col in enumerate(num_cols):\n",
    "    plt.subplot(3, 3, i+1)\n",
    "    sns.boxplot(X_train[col])"
   ]
  },
  {
   "cell_type": "code",
   "execution_count": 259,
   "id": "5834940f",
   "metadata": {},
   "outputs": [],
   "source": [
    "from sklearn.preprocessing import RobustScaler\n",
    "\n",
    "scaler = RobustScaler()\n",
    "\n",
    "preprocessor = ColumnTransformer(\n",
    "    transformers = [\n",
    "        ('scaler', scaler, num_cols),\n",
    "    ],\n",
    "    remainder='passthrough'\n",
    ")\n",
    "\n",
    "pipeline = Pipeline(steps=[('preprocessor', preprocessor)])\n",
    "\n",
    "X_train_scaled = pipeline.fit_transform(X_train[num_cols])\n",
    "X_test_scaled = pipeline.transform(X_test[num_cols])\n",
    "\n",
    "scaled_feature_names = num_cols\n",
    "all_feature_names = scaled_feature_names\n",
    "\n",
    "X_train_scaled = pd.DataFrame(X_train_scaled, columns=all_feature_names, index=X_train.index)\n",
    "X_test_scaled = pd.DataFrame(X_test_scaled, columns=all_feature_names, index=X_test.index)"
   ]
  },
  {
   "cell_type": "code",
   "execution_count": 260,
   "id": "35fadd67",
   "metadata": {},
   "outputs": [],
   "source": [
    "X_train = X_train.drop(num_cols, axis=1)\n",
    "X_test = X_test.drop(num_cols, axis=1)\n",
    "\n",
    "X_train = pd.concat([X_train, X_train_scaled], axis=1)\n",
    "X_test = pd.concat([X_test, X_test_scaled], axis=1)"
   ]
  },
  {
   "cell_type": "code",
   "execution_count": 261,
   "id": "672e4d02",
   "metadata": {},
   "outputs": [],
   "source": [
    "X_train = X_train.drop(['booking_status'], axis=1)\n",
    "X_test = X_test.drop(['booking_status'], axis=1)"
   ]
  },
  {
   "cell_type": "markdown",
   "id": "4bf82f1b",
   "metadata": {},
   "source": [
    "# 2. Modelling"
   ]
  },
  {
   "cell_type": "markdown",
   "id": "2481c798",
   "metadata": {},
   "source": [
    "## 2.1 Random Forest"
   ]
  },
  {
   "cell_type": "code",
   "execution_count": 262,
   "id": "ad6c4405",
   "metadata": {},
   "outputs": [
    {
     "name": "stdout",
     "output_type": "stream",
     "text": [
      "Fitting 5 folds for each of 6 candidates, totalling 30 fits\n",
      "Best parameters found by GridSearchCV in RandomForestClassifier: {'max_depth': 10, 'n_estimators': 500}\n",
      "Training Score RandomForestClassifier:  0.8764989662301861\n"
     ]
    }
   ],
   "source": [
    "from sklearn.ensemble import RandomForestClassifier\n",
    "from sklearn.model_selection import GridSearchCV\n",
    "\n",
    "rfc = RandomForestClassifier()\n",
    "\n",
    "param_grid_rfc = {\n",
    "    'n_estimators': [300, 500, 700],\n",
    "    'max_depth': [5, 10],\n",
    "}\n",
    "\n",
    "grid_search_rfc = GridSearchCV(estimator=rfc, param_grid=param_grid_rfc, cv=5, scoring='accuracy', n_jobs=-1, verbose=2)\n",
    "\n",
    "grid_search_rfc.fit(X_train, y_train)\n",
    "\n",
    "print('Best parameters found by GridSearchCV in RandomForestClassifier:', grid_search_rfc.best_params_)\n",
    "\n",
    "print('Training Score RandomForestClassifier: ', grid_search_rfc.score(X_train, y_train))"
   ]
  },
  {
   "cell_type": "markdown",
   "id": "6d2582d6",
   "metadata": {},
   "source": [
    "## 2.2 XGBoost"
   ]
  },
  {
   "cell_type": "code",
   "execution_count": 263,
   "id": "191925c1",
   "metadata": {},
   "outputs": [
    {
     "name": "stdout",
     "output_type": "stream",
     "text": [
      "Fitting 5 folds for each of 27 candidates, totalling 135 fits\n",
      "Best parameters found by GridSearchCV in XGBClassifier: {'learning_rate': 0.1, 'max_depth': 9, 'n_estimators': 700}\n",
      "Training Score XGBClassifier:  0.9900758097863542\n"
     ]
    }
   ],
   "source": [
    "from xgboost import XGBClassifier\n",
    "\n",
    "xgb = XGBClassifier()\n",
    "\n",
    "param_grid_xgb = {\n",
    "    'max_depth': [5, 7, 9],\n",
    "    'learning_rate': [0.01, 0.05, 0.1],\n",
    "    'n_estimators': [300, 500, 700],\n",
    "}\n",
    "\n",
    "grid_search_xgb = GridSearchCV(estimator=xgb, param_grid=param_grid_xgb, cv=5, scoring='accuracy', n_jobs=-1, verbose=2)\n",
    "\n",
    "grid_search_xgb.fit(X_train, y_train)\n",
    "\n",
    "print('Best parameters found by GridSearchCV in XGBClassifier:', grid_search_xgb.best_params_)\n",
    "\n",
    "print('Training Score XGBClassifier: ', grid_search_xgb.score(X_train, y_train))"
   ]
  },
  {
   "cell_type": "markdown",
   "id": "603cc89a",
   "metadata": {},
   "source": [
    "# 3. Evaluation"
   ]
  },
  {
   "cell_type": "code",
   "execution_count": 264,
   "id": "685d5ba7",
   "metadata": {},
   "outputs": [
    {
     "name": "stdout",
     "output_type": "stream",
     "text": [
      "              precision    recall  f1-score   support\n",
      "\n",
      "           0       0.94      0.87      0.90      5255\n",
      "           1       0.71      0.86      0.78      2000\n",
      "\n",
      "    accuracy                           0.86      7255\n",
      "   macro avg       0.82      0.86      0.84      7255\n",
      "weighted avg       0.88      0.86      0.87      7255\n",
      "\n",
      "------------------------------------------------------------\n",
      "              precision    recall  f1-score   support\n",
      "\n",
      "           0       0.92      0.92      0.92      4836\n",
      "           1       0.84      0.84      0.84      2419\n",
      "\n",
      "    accuracy                           0.89      7255\n",
      "   macro avg       0.88      0.88      0.88      7255\n",
      "weighted avg       0.89      0.89      0.89      7255\n",
      "\n"
     ]
    }
   ],
   "source": [
    "from sklearn.metrics import classification_report\n",
    "\n",
    "rfc_pred = grid_search_rfc.predict(X_test)\n",
    "xgb_pred = grid_search_xgb.predict(X_test)\n",
    "\n",
    "print(classification_report(rfc_pred, y_test))\n",
    "print('-'*60)\n",
    "print(classification_report(xgb_pred, y_test))"
   ]
  },
  {
   "cell_type": "code",
   "execution_count": 265,
   "id": "7eed058a",
   "metadata": {},
   "outputs": [
    {
     "data": {
      "image/png": "[encoded data removed]",
      "text/plain": [
       "<Figure size 640x480 with 2 Axes>"
      ]
     },
     "metadata": {},
     "output_type": "display_data"
    },
    {
     "data": {
      "image/png": "[encoded data removed]",
      "text/plain": [
       "<Figure size 640x480 with 2 Axes>"
      ]
     },
     "metadata": {},
     "output_type": "display_data"
    }
   ],
   "source": [
    "from sklearn.metrics import confusion_matrix\n",
    "\n",
    "conf_mat_rfc = confusion_matrix(rfc_pred, y_test)\n",
    "conf_mat_xgb = confusion_matrix(xgb_pred, y_test)\n",
    "\n",
    "\n",
    "sns.heatmap(conf_mat_rfc, annot=True, fmt='d', cmap='Blues')\n",
    "plt.xlabel('Predicted')\n",
    "plt.ylabel('True')\n",
    "plt.title('Confusion Matrix Random Forest')\n",
    "plt.show()\n",
    "sns.heatmap(conf_mat_xgb, annot=True, fmt='d', cmap='Blues')\n",
    "plt.xlabel('Predicted')\n",
    "plt.ylabel('True')\n",
    "plt.title('Confusion Matrix XGBoost')\n",
    "plt.show()"
   ]
  },
  {
   "cell_type": "markdown",
   "id": "021de64e",
   "metadata": {},
   "source": [
    "# 4. Model Saving"
   ]
  },
  {
   "cell_type": "code",
   "execution_count": 267,
   "id": "5b8e42a9",
   "metadata": {},
   "outputs": [
    {
     "name": "stdout",
     "output_type": "stream",
     "text": [
      "Trained model saved to best_model_xgb.pkl\n"
     ]
    }
   ],
   "source": [
    "import pickle as pkl\n",
    "\n",
    "filename = 'best_model_xgb.pkl'\n",
    "with open(filename, 'wb') as f:\n",
    "    pkl.dump(grid_search_rfc, f)\n",
    "\n",
    "print(f'Trained model saved to {filename}')"
   ]
  },
  {
   "cell_type": "code",
   "execution_count": null,
   "id": "0492eff1",
   "metadata": {},
   "outputs": [],
   "source": []
  },
  {
   "cell_type": "code",
   "execution_count": null,
   "id": "ddb80fc5",
   "metadata": {},
   "outputs": [],
   "source": []
  }
 ],
 "metadata": {
  "kernelspec": {
   "display_name": "deep_learning",
   "language": "python",
   "name": "python3"
  },
  "language_info": {
   "codemirror_mode": {
    "name": "ipython",
    "version": 3
   },
   "file_extension": ".py",
   "mimetype": "text/x-python",
   "name": "python",
   "nbconvert_exporter": "python",
   "pygments_lexer": "ipython3",
   "version": "3.12.9"
  }
 },
 "nbformat": 4,
 "nbformat_minor": 5
}
